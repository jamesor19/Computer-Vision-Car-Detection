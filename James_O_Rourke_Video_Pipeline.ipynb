{
 "cells": [
  {
   "cell_type": "markdown",
   "metadata": {},
   "source": [
    "#  James O'Rourke 15334121 Case Studies Assignment"
   ]
  },
  {
   "cell_type": "code",
   "execution_count": 1,
   "metadata": {},
   "outputs": [],
   "source": [
    "#All the imports I need\n",
    "import numpy as np \n",
    "import cv2 ,time, random\n",
    "from tensorflow import keras\n",
    "import tensorflow as tf\n",
    "from tensorflow.keras import layers\n",
    "import pandas as pd\n",
    "import matplotlib.pyplot as plt\n",
    "from keras.layers.core import Dense, Activation\n",
    "from keras.optimizers import Adam\n",
    "from keras.layers import Dense,GlobalAveragePooling2D\n",
    "from keras.applications import MobileNet\n",
    "from keras.models import Model\n",
    "from keras.preprocessing.image import ImageDataGenerator\n",
    "import tensorflow.keras.preprocessing\n",
    "from IPython.display import display\n",
    "from PIL import Image\n",
    "%matplotlib inline"
   ]
  },
  {
   "cell_type": "code",
   "execution_count": 2,
   "metadata": {},
   "outputs": [],
   "source": [
    "#Function that will return an F1 score for ever frame in term of a list\n",
    "#Will caculate f1 for every frame by first calculating precsion and accuracy for each frame\n",
    "\n",
    "def F1ScoreCalc(preds,truth):\n",
    "    F1Scores = []\n",
    "\n",
    "    for k in range(0, len(truth)-1):\n",
    "        if preds[k] == truth[k]:#When real = predicted\n",
    "            recall, precision = 1, 1\n",
    "        elif preds[k] > truth[k]: #When prediction > truth\n",
    "            TP = truth[k]\n",
    "            FP = (preds[k] - truth[k])\n",
    "            recall, precision = 1, TP/(TP+FP)\n",
    "        else:                     #When prediction < truth\n",
    "            TP = preds[k]\n",
    "            FN = truth[k] - preds[k]\n",
    "            recall, precision = (TP/(TP+FN)), 1\n",
    "        #Calculate the F1 score\n",
    "\n",
    "        F1 = 2*((recall*precision)/(recall+precision))\n",
    "        F1Scores.append(F1)\n",
    "        \n",
    "    return F1Scores\n",
    "\n",
    "#Also reading the groundtruth file preparing list of results to compare to\n",
    "groundTruth = pd.read_excel(\"Groundtruth.xlsx\")\n",
    "\n",
    "TrueCarCount = groundTruth.loc[:,\"Total\"].tolist()\n",
    "\n",
    "TrueSUVCount = groundTruth.loc[:,\"SUV\"].tolist()\n",
    "\n",
    "TrueSedanCount = groundTruth.loc[:,\"Sedan\"].tolist()\n"
   ]
  },
  {
   "cell_type": "markdown",
   "metadata": {},
   "source": [
    "Loading the the YoloV3-Tiny model into OpenCV using readNetFromDarknet. This will allow us to use darknet and obtaining the ROI which we can then pass into our classifer. Code based on https://www.learnpythonwithrune.org/how-to-get-started-with-yolo-in-python/\n"
   ]
  },
  {
   "cell_type": "code",
   "execution_count": 3,
   "metadata": {},
   "outputs": [],
   "source": [
    "\n",
    "\n",
    "# Read labels that are used on object\n",
    "labels = open(\"darknet/data/coco.names\").read().splitlines()\n",
    "\n",
    "\n",
    "# Give the configuration and weight files for the model and load the network\n",
    "#Using tiny yolo v3 for cfg and weights\n",
    "net = cv2.dnn.readNetFromDarknet(\"darknet/cfg/yolov3-tiny.cfg\", \"yolov3-tiny.weights\")\n",
    "# Determine the output layer,\n",
    "ln = net.getLayerNames()\n",
    "ln = [ln[i[0] - 1] for i in net.getUnconnectedOutLayers()]\n",
    "\n"
   ]
  },
  {
   "cell_type": "code",
   "execution_count": 4,
   "metadata": {},
   "outputs": [
    {
     "name": "stdout",
     "output_type": "stream",
     "text": [
      "It stopped at frame  900\n",
      "Total time taken to run tiny yolo on 900 images was 122.173 seconds\n",
      "With an average time per frame of  0.136\n",
      "Our overall F1 score for query 1 is  0.88\n"
     ]
    }
   ],
   "source": [
    "#List for containg number of cars per frame\n",
    "car_count = []\n",
    "#Storing times for analyis\n",
    "yolo_times = []\n",
    "\n",
    "#Pick a random frame to show\n",
    "randFrame = random.randint(0,899)\n",
    "\n",
    "\n",
    "\n",
    "#Cap is the video reader\n",
    "cap = cv2.VideoCapture(\"assignment-clip.mp4\")\n",
    "currentFrame = 0\n",
    "\n",
    "\n",
    "while(cap.isOpened()):\n",
    "    ret, frame = cap.read()\n",
    "    if ret == False:\n",
    "        print(\"It stopped at frame \", currentFrame)\n",
    "        break\n",
    "    image = frame\n",
    "    #Start the timer\n",
    "    start = time.time()\n",
    "    # Get the shape\n",
    "    h, w = image.shape[:2]\n",
    "    # Load it as a blob and feed it to the network\n",
    "    blob = cv2.dnn.blobFromImage(image, 1 / 255.0, (416, 416), swapRB=True)\n",
    "    net.setInput(blob)\n",
    "    # Get the output\n",
    "    layer_outputs = net.forward(ln)\n",
    "\n",
    "\n",
    "    # Initialize the lists we need to interpret the results\n",
    "    boxes = []\n",
    "    confidences = []\n",
    "    class_ids = []\n",
    "\n",
    "    # Loop over the layers\n",
    "    for output in layer_outputs:\n",
    "        # For the layer loop over all detections\n",
    "        for detection in output:\n",
    "            # The detection first 4 entries contains the object position and size\n",
    "            scores = detection[5:]\n",
    "            # Then it has detection scores - it takes the one with maximal score\n",
    "            class_id = np.argmax(scores).item()\n",
    "            # The maximal score is the confidence\n",
    "            confidence = scores[class_id].item()\n",
    "\n",
    "            # Ensure we have some reasonable confidence in our prediction and only take class_id of 2 i.e. cars\n",
    "            if confidence > 0.3 and class_id == 2:\n",
    "                # The first four entries have the location and size (center, size)\n",
    "                # It needs to be scaled up as the result is given in relative size (0.0 to 1.0)\n",
    "                box = detection[0:4] * np.array([w, h, w, h])\n",
    "                center_x, center_y, width, height = box.astype(int).tolist()\n",
    "                \n",
    "                \n",
    "                #If my boudrey box is too small I want to make it a bit bigger\n",
    "                if width*height < 3000:\n",
    "                    width = width+width\n",
    "                    height = height+height\n",
    "                elif width*height < 6000:\n",
    "                    width = width+width//2\n",
    "                    height = height+height//2\n",
    "                    \n",
    "                \n",
    "                \n",
    "            \n",
    "                # Calculate the upper corner\n",
    "                x = center_x - width//2\n",
    "                y = center_y - height//2\n",
    "                \n",
    "                \n",
    "                # Add our findings to the lists\n",
    "                boxes.append([x, y, width, height])\n",
    "                confidences.append(confidence)\n",
    "                class_ids.append(class_id)\n",
    "\n",
    "    # Only keep the best boxes of the overlapping ones\n",
    "    idxs = cv2.dnn.NMSBoxes(boxes, confidences,0.3, 0.4)\n",
    "    \n",
    "    #Take out count here\n",
    "    car_count.append(len(idxs))\n",
    "    # Ensure at least one detection exists - needed otherwise flatten will fail\n",
    "    if len(idxs) > 0:\n",
    "        # Loop over the indexes we are keeping\n",
    "        for i in idxs.flatten():\n",
    "            # Get the box information\n",
    "            x, y, w, h = boxes[i]\n",
    "            # Make a rectangle\n",
    "            cv2.rectangle(image, (x, y), (x + w, y + h), (255,0,255), 2)\n",
    "            # Make and add text\n",
    "            text = \"{}\".format(labels[class_ids[i]])\n",
    "            cv2.putText(image, text, (x, y - 5), cv2.FONT_HERSHEY_SIMPLEX,\n",
    "                    0.5, (255,0,255), 1)\n",
    "    \n",
    "    #dispaly the random text image\n",
    "    if currentFrame == randFrame:\n",
    "        print(\"Displaying frame \",randFrame+1)\n",
    "        cv2.imshow(\"Yolo Test image\", image)\n",
    "        cv2.waitKey(0)\n",
    "        cv2.destroyAllWindows()\n",
    "    \n",
    "    #Storing the procssed image\n",
    "    cv2.imwrite(\"yoloFrames/img\"+str(currentFrame)+\".jpg\",image)\n",
    "    #End the end timer and add the time to our list\n",
    "    end = time.time() \n",
    "    yolo_times.append(end - start)\n",
    "    \n",
    "    #update Frame count\n",
    "    currentFrame += 1\n",
    "\n",
    "    \n",
    "\n",
    "#release the video reader\n",
    "cap.release()\n",
    "cv2.destroyAllWindows()\n",
    "\n",
    "\n",
    "#Througput and execution time for the query\n",
    "print(\"Total time taken to run tiny yolo on 900 images was\",round(sum(yolo_times),3),\"seconds\")\n",
    "print(\"With an average time per frame of \",round(np.mean(yolo_times),3))\n",
    "print(\"Our overall F1 score for query 1 is \",round(np.mean(F1ScoreCalc(car_count,TrueCarCount)),4))"
   ]
  },
  {
   "cell_type": "code",
   "execution_count": 5,
   "metadata": {},
   "outputs": [
    {
     "data": {
      "image/png": "[encoded data removed]",
      "text/plain": [
       "<Figure size 432x288 with 1 Axes>"
      ]
     },
     "metadata": {
      "needs_background": "light"
     },
     "output_type": "display_data"
    }
   ],
   "source": [
    "plt.plot(yolo_times)\n",
    "plt.title('Throughput Query 1')\n",
    "plt.ylabel('Time in Seconds')\n",
    "plt.xlabel('Frame Number')\n",
    "plt.show()"
   ]
  },
  {
   "cell_type": "code",
   "execution_count": 6,
   "metadata": {},
   "outputs": [
    {
     "data": {
      "image/png": "[encoded data removed]",
      "text/plain": [
       "<Figure size 432x288 with 1 Axes>"
      ]
     },
     "metadata": {
      "needs_background": "light"
     },
     "output_type": "display_data"
    }
   ],
   "source": [
    "plt.plot(car_count,yolo_times,\"ro\")\n",
    "plt.title('Throughput Query 1')\n",
    "plt.ylabel('Time in Seconds')\n",
    "plt.xlabel('Car Count')\n",
    "plt.show()"
   ]
  },
  {
   "cell_type": "markdown",
   "metadata": {},
   "source": [
    "# Loading datasets for training our keras model\n",
    "\n",
    "I downloaded all my images using the chrome extension Image Downloader. I downloaded approximately 500 images of both Sedan and SUV cars with a little bit extra accounting for that I would have to remove some. I then went toughgh and manually took out any that I thought would contaminate my training progress.\n",
    "\n",
    "Since I was using a ImageDataGenerator I split them into Training and Validation folders with a ratio of about 0.80 to training. I then further split these into folders labelled sedan and SUV."
   ]
  },
  {
   "cell_type": "code",
   "execution_count": null,
   "metadata": {},
   "outputs": [],
   "source": [
    "#Load model if want to skip training\n",
    "model = keras.models.load_model('myKerasModel')\n"
   ]
  },
  {
   "cell_type": "code",
   "execution_count": 7,
   "metadata": {},
   "outputs": [],
   "source": [
    "\n",
    "#Resizes image and adds a dimsesion of 1. THis helps when it comes to input shape of the keras model.\n",
    "def prep_image(img):\n",
    "    img = cv2.resize(img,(224,224))\n",
    "    img_expanded = np.expand_dims(img, axis=0)\n",
    "    return img_expanded"
   ]
  },
  {
   "cell_type": "code",
   "execution_count": 8,
   "metadata": {},
   "outputs": [
    {
     "name": "stdout",
     "output_type": "stream",
     "text": [
      "Found 804 images belonging to 2 classes.\n",
      "Found 158 images belonging to 2 classes.\n"
     ]
    }
   ],
   "source": [
    "#Here I define my ImageDataGenerators. This allows me to augment my image data at random in batches for evrery epoch\n",
    "#I done this to avoid overfitting. I did't perform any augmenation of the validation data.\n",
    "#I used the prep_image function I defined earlier \n",
    "\n",
    "trainDataGen = tf.keras.preprocessing.image.ImageDataGenerator(preprocessing_function = prep_image,\n",
    "                                                       rotation_range = 30,\n",
    "                                                       horizontal_flip=True,\n",
    "                                                       width_shift_range=0.05, \n",
    "                                                       height_shift_range=0.05,\n",
    "                                                       shear_range=0.05,\n",
    "                                                       zoom_range=0.05)\n",
    "\n",
    "\n",
    "\n",
    "valDataGen = tf.keras.preprocessing.image.ImageDataGenerator(\n",
    "                                   preprocessing_function = prep_image)\n",
    "\n",
    "\n",
    "\n",
    "#Defines my training data which will be generated with ImageDataGenerator with augmentation at training time\n",
    "\n",
    "train_images =  trainDataGen.flow_from_directory(\n",
    "                                directory= \"car_flow_data/train\",\n",
    "                                target_size=(224,224),\n",
    "                                color_mode=\"rgb\",\n",
    "                                batch_size=32,\n",
    "                                shuffle=True,\n",
    "                                seed=127\n",
    "                            )\n",
    "\n",
    "#Does the same with my validation data minues the augmentation \n",
    "val_images = valDataGen.flow_from_directory(\n",
    "                                \"car_flow_data/valid\",\n",
    "                                color_mode='rgb', \n",
    "                                batch_size=32, \n",
    "                                target_size=(224,224), \n",
    "                                seed = 127,\n",
    "                                shuffle=True\n",
    "                            )\n",
    "\n"
   ]
  },
  {
   "cell_type": "code",
   "execution_count": 9,
   "metadata": {},
   "outputs": [
    {
     "data": {
      "text/plain": [
       "{'sedan': 0, 'suv': 1}"
      ]
     },
     "execution_count": 9,
     "metadata": {},
     "output_type": "execute_result"
    }
   ],
   "source": [
    "# A quick check to see the classes are correctly present in the data \n",
    "pred_names = train_images.class_indices\n",
    "pred_names"
   ]
  },
  {
   "cell_type": "markdown",
   "metadata": {},
   "source": [
    "# Making our Classification Model"
   ]
  },
  {
   "cell_type": "code",
   "execution_count": 23,
   "metadata": {},
   "outputs": [],
   "source": [
    "#Loading the mobileNetV2 as our base model, weights from imagent and dont include top\n",
    "base_model = tf.keras.applications.MobileNetV2(input_shape = (224,224,3), include_top=False, \n",
    "                                                weights = \"imagenet\")\n",
    "#Freezing Weights in the base model\n",
    "base_model.trainable = False\n",
    "\n",
    "\n",
    "inputs = keras.Input(shape=(224,224,3))#My input layer\n",
    "\n",
    "\n",
    "\n",
    "x = layers.GaussianNoise(stddev=0.5)(inputs)#Add some augmentation to images to avoid overfitting\n",
    "\n",
    "\n",
    "x = tf.keras.applications.mobilenet.preprocess_input(x)#The mobile net fucntion to normalise the input\n",
    "\n",
    "\n",
    "\n",
    "x= base_model(x, training=False)#The base mobile net model with frozen weights\n",
    "\n",
    "x=GlobalAveragePooling2D()(x)\n",
    "\n",
    "x=keras.layers.Dropout(0.4)(x)\n",
    "\n",
    "x=Dense(1024,activation='relu')(x) \n",
    "\n",
    "x=keras.layers.Dropout(0.4)(x)\n",
    "\n",
    "x=Dense(1024,activation='relu')(x) #we add dense layers so that the model \n",
    "\n",
    "x=keras.layers.Dropout(0.4)(x)\n",
    "\n",
    "x=Dense(512,activation='relu')(x)\n",
    "\n",
    "preds=Dense(2,activation='softmax')(x) #final layer with softmax activationn"
   ]
  },
  {
   "cell_type": "code",
   "execution_count": 24,
   "metadata": {},
   "outputs": [
    {
     "name": "stdout",
     "output_type": "stream",
     "text": [
      "Model: \"model_1\"\n",
      "_________________________________________________________________\n",
      "Layer (type)                 Output Shape              Param #   \n",
      "=================================================================\n",
      "input_4 (InputLayer)         [(None, 224, 224, 3)]     0         \n",
      "_________________________________________________________________\n",
      "gaussian_noise_1 (GaussianNo (None, 224, 224, 3)       0         \n",
      "_________________________________________________________________\n",
      "tf.math.truediv_1 (TFOpLambd (None, 224, 224, 3)       0         \n",
      "_________________________________________________________________\n",
      "tf.math.subtract_1 (TFOpLamb (None, 224, 224, 3)       0         \n",
      "_________________________________________________________________\n",
      "mobilenetv2_1.00_224 (Functi (None, 7, 7, 1280)        2257984   \n",
      "_________________________________________________________________\n",
      "global_average_pooling2d_1 ( (None, 1280)              0         \n",
      "_________________________________________________________________\n",
      "dropout_3 (Dropout)          (None, 1280)              0         \n",
      "_________________________________________________________________\n",
      "dense_4 (Dense)              (None, 1024)              1311744   \n",
      "_________________________________________________________________\n",
      "dropout_4 (Dropout)          (None, 1024)              0         \n",
      "_________________________________________________________________\n",
      "dense_5 (Dense)              (None, 1024)              1049600   \n",
      "_________________________________________________________________\n",
      "dropout_5 (Dropout)          (None, 1024)              0         \n",
      "_________________________________________________________________\n",
      "dense_6 (Dense)              (None, 512)               524800    \n",
      "_________________________________________________________________\n",
      "dense_7 (Dense)              (None, 2)                 1026      \n",
      "=================================================================\n",
      "Total params: 5,145,154\n",
      "Trainable params: 2,887,170\n",
      "Non-trainable params: 2,257,984\n",
      "_________________________________________________________________\n"
     ]
    }
   ],
   "source": [
    "#Defining my model and getting a summmary of all the layers\n",
    "model=Model(inputs = inputs,outputs=preds)\n",
    "model.summary()"
   ]
  },
  {
   "cell_type": "code",
   "execution_count": 25,
   "metadata": {},
   "outputs": [],
   "source": [
    "model.compile(optimizer='Adam',\n",
    "               loss='categorical_crossentropy',\n",
    "               metrics=['accuracy'])\n",
    "\n",
    "#Will be training for 20 epochs\n",
    "epoch = 20"
   ]
  },
  {
   "cell_type": "markdown",
   "metadata": {},
   "source": [
    "# Training my model "
   ]
  },
  {
   "cell_type": "code",
   "execution_count": 26,
   "metadata": {
    "scrolled": false
   },
   "outputs": [
    {
     "name": "stdout",
     "output_type": "stream",
     "text": [
      "Epoch 1/20\n",
      "26/26 [==============================] - 56s 2s/step - loss: 1.1489 - accuracy: 0.5770 - val_loss: 0.6083 - val_accuracy: 0.6392\n",
      "Epoch 2/20\n",
      "26/26 [==============================] - 43s 2s/step - loss: 0.5309 - accuracy: 0.7474 - val_loss: 0.6903 - val_accuracy: 0.7278\n",
      "Epoch 3/20\n",
      "26/26 [==============================] - 41s 2s/step - loss: 0.4661 - accuracy: 0.8020 - val_loss: 0.4392 - val_accuracy: 0.7785\n",
      "Epoch 4/20\n",
      "26/26 [==============================] - 38s 1s/step - loss: 0.3767 - accuracy: 0.8366 - val_loss: 0.4173 - val_accuracy: 0.8038\n",
      "Epoch 5/20\n",
      "26/26 [==============================] - 42s 2s/step - loss: 0.3400 - accuracy: 0.8568 - val_loss: 0.3442 - val_accuracy: 0.8544\n",
      "Epoch 6/20\n",
      "26/26 [==============================] - 43s 2s/step - loss: 0.3823 - accuracy: 0.8384 - val_loss: 0.4477 - val_accuracy: 0.7722\n",
      "Epoch 7/20\n",
      "26/26 [==============================] - 42s 2s/step - loss: 0.2966 - accuracy: 0.8749 - val_loss: 0.4332 - val_accuracy: 0.7848\n",
      "Epoch 8/20\n",
      "26/26 [==============================] - 41s 1s/step - loss: 0.3166 - accuracy: 0.8672 - val_loss: 0.3379 - val_accuracy: 0.8608\n",
      "Epoch 9/20\n",
      "26/26 [==============================] - 42s 2s/step - loss: 0.3889 - accuracy: 0.8153 - val_loss: 0.3464 - val_accuracy: 0.8101\n",
      "Epoch 10/20\n",
      "26/26 [==============================] - 41s 2s/step - loss: 0.2950 - accuracy: 0.8795 - val_loss: 0.3573 - val_accuracy: 0.8228\n",
      "Epoch 11/20\n",
      "26/26 [==============================] - 41s 2s/step - loss: 0.3594 - accuracy: 0.8486 - val_loss: 0.4309 - val_accuracy: 0.8038\n",
      "Epoch 12/20\n",
      "26/26 [==============================] - 38s 1s/step - loss: 0.2767 - accuracy: 0.8899 - val_loss: 0.3289 - val_accuracy: 0.8418\n",
      "Epoch 13/20\n",
      "26/26 [==============================] - 37s 1s/step - loss: 0.3204 - accuracy: 0.8573 - val_loss: 0.3985 - val_accuracy: 0.8101\n",
      "Epoch 14/20\n",
      "26/26 [==============================] - 40s 2s/step - loss: 0.3285 - accuracy: 0.8448 - val_loss: 0.4226 - val_accuracy: 0.7911\n",
      "Epoch 15/20\n",
      "26/26 [==============================] - 42s 2s/step - loss: 0.2480 - accuracy: 0.8931 - val_loss: 0.4220 - val_accuracy: 0.7911\n",
      "Epoch 16/20\n",
      "26/26 [==============================] - 40s 2s/step - loss: 0.2845 - accuracy: 0.8877 - val_loss: 0.4279 - val_accuracy: 0.8038\n",
      "Epoch 17/20\n",
      "26/26 [==============================] - 43s 2s/step - loss: 0.2223 - accuracy: 0.9163 - val_loss: 0.2964 - val_accuracy: 0.8734\n",
      "Epoch 18/20\n",
      "26/26 [==============================] - 42s 2s/step - loss: 0.2547 - accuracy: 0.8836 - val_loss: 0.3592 - val_accuracy: 0.8101\n",
      "Epoch 19/20\n",
      "26/26 [==============================] - 40s 2s/step - loss: 0.2983 - accuracy: 0.8796 - val_loss: 0.4329 - val_accuracy: 0.8165\n",
      "Epoch 20/20\n",
      "26/26 [==============================] - 40s 2s/step - loss: 0.2996 - accuracy: 0.8787 - val_loss: 0.3149 - val_accuracy: 0.8608\n"
     ]
    }
   ],
   "source": [
    "#Start training my model and time it.\n",
    "\n",
    "start = time.time()\n",
    "history = model.fit(train_images, epochs=epoch,validation_data = val_images,verbose=1)\n",
    "end = time.time()"
   ]
  },
  {
   "cell_type": "code",
   "execution_count": 27,
   "metadata": {},
   "outputs": [
    {
     "name": "stdout",
     "output_type": "stream",
     "text": [
      "Training time was  837 seconds\n"
     ]
    },
    {
     "data": {
      "image/png": "[encoded data removed]",
      "text/plain": [
       "<Figure size 432x288 with 1 Axes>"
      ]
     },
     "metadata": {
      "needs_background": "light"
     },
     "output_type": "display_data"
    },
    {
     "data": {
      "image/png": "[encoded data removed]",
      "text/plain": [
       "<Figure size 432x288 with 1 Axes>"
      ]
     },
     "metadata": {
      "needs_background": "light"
     },
     "output_type": "display_data"
    }
   ],
   "source": [
    "print(\"Training time was \",int(end - start), \"seconds\")\n",
    "\n",
    "\n",
    "#Plot the accuracy\n",
    "plt.plot(history.history['accuracy'])\n",
    "plt.plot(history.history['val_accuracy'])\n",
    "plt.title('model accuracy')\n",
    "plt.ylabel('accuracy')\n",
    "plt.xlabel('epoch')\n",
    "plt.legend(['train', 'val'], loc='upper left')\n",
    "plt.show()\n",
    "\n",
    "\n",
    "#Plot the loss\n",
    "plt.plot(history.history['loss'])\n",
    "plt.plot(history.history['val_loss'])\n",
    "plt.title('model loss')\n",
    "plt.ylabel('loss')\n",
    "plt.xlabel('epoch')\n",
    "plt.legend(['train', 'val'], loc='upper right')\n",
    "plt.show()"
   ]
  },
  {
   "cell_type": "code",
   "execution_count": 28,
   "metadata": {},
   "outputs": [
    {
     "name": "stdout",
     "output_type": "stream",
     "text": [
      "[[0.99030286 0.00969712]]\n",
      "[[0.20285527 0.7971447 ]]\n"
     ]
    }
   ],
   "source": [
    "#Two test images I have just to make some quick evaluations on how my taining is going\n",
    "\n",
    "src = cv2.imread(\"sedan.jpg\")\n",
    "img = prep_image(src)\n",
    "\n",
    "pred = model.predict(img)\n",
    "print(pred)\n",
    "\n",
    "src = cv2.imread(\"suv.jpg\")\n",
    "img = prep_image(src)\n",
    "\n",
    "pred = model.predict(img)\n",
    "print(pred)"
   ]
  },
  {
   "cell_type": "code",
   "execution_count": 29,
   "metadata": {
    "scrolled": false
   },
   "outputs": [
    {
     "name": "stdout",
     "output_type": "stream",
     "text": [
      "Epoch 1/5\n",
      "26/26 [==============================] - 164s 6s/step - loss: 0.2810 - accuracy: 0.8768 - val_loss: 0.2900 - val_accuracy: 0.8734\n",
      "Epoch 2/5\n",
      "26/26 [==============================] - 159s 6s/step - loss: 0.2243 - accuracy: 0.8929 - val_loss: 0.3180 - val_accuracy: 0.8797\n",
      "Epoch 3/5\n",
      "26/26 [==============================] - 153s 6s/step - loss: 0.1982 - accuracy: 0.9226 - val_loss: 0.2506 - val_accuracy: 0.8987\n",
      "Epoch 4/5\n",
      "26/26 [==============================] - 149s 6s/step - loss: 0.1948 - accuracy: 0.9065 - val_loss: 0.2684 - val_accuracy: 0.8987\n",
      "Epoch 5/5\n",
      "26/26 [==============================] - 188s 7s/step - loss: 0.1581 - accuracy: 0.9351 - val_loss: 0.2445 - val_accuracy: 0.9114\n"
     ]
    }
   ],
   "source": [
    "# Fine tuning with a very low learning rate\n",
    "\n",
    "#Making sure the weights in the base model are unfrozen\n",
    "base_model.trainable = True\n",
    "\n",
    "\n",
    "model.compile(\n",
    "    optimizer=keras.optimizers.Adam(1e-5),  # Low learning rate\n",
    "    loss='categorical_crossentropy',\n",
    "    metrics=['accuracy']\n",
    ")\n",
    "#Low epoch as we dont't want to over fit\n",
    "epochs = 5\n",
    "fineTuningHistory = model.fit(train_images, epochs=epochs, validation_data=val_images)"
   ]
  },
  {
   "cell_type": "code",
   "execution_count": 30,
   "metadata": {},
   "outputs": [
    {
     "data": {
      "image/png": "[encoded data removed]",
      "text/plain": [
       "<Figure size 432x288 with 1 Axes>"
      ]
     },
     "metadata": {
      "needs_background": "light"
     },
     "output_type": "display_data"
    },
    {
     "data": {
      "image/png": "[encoded data removed]",
      "text/plain": [
       "<Figure size 432x288 with 1 Axes>"
      ]
     },
     "metadata": {
      "needs_background": "light"
     },
     "output_type": "display_data"
    }
   ],
   "source": [
    "\n",
    "plt.plot(fineTuningHistory.history['accuracy'])\n",
    "plt.plot(fineTuningHistory.history['val_accuracy'])\n",
    "plt.title('model accuracy during fine-tuning')\n",
    "plt.ylabel('accuracy')\n",
    "plt.xlabel('epoch')\n",
    "plt.legend(['train', 'val'], loc='upper left')\n",
    "plt.show()\n",
    "\n",
    "# summarize history for accuracy\n",
    "plt.plot(history.history['loss'])\n",
    "plt.plot(history.history['val_loss'])\n",
    "plt.title('model loss during fine-tuning')\n",
    "plt.ylabel('loss')\n",
    "plt.xlabel('epoch')\n",
    "plt.legend(['train', 'val'], loc='upper right')\n",
    "plt.show()"
   ]
  },
  {
   "cell_type": "code",
   "execution_count": 31,
   "metadata": {},
   "outputs": [
    {
     "name": "stdout",
     "output_type": "stream",
     "text": [
      "[[0.1823209  0.81767905]]\n",
      "[[9.992655e-01 7.345582e-04]]\n"
     ]
    }
   ],
   "source": [
    "#Some quick test images I use \n",
    "src = cv2.imread(\"suv.jpg\")\n",
    "img = prep_image(src)\n",
    "\n",
    "pred = model.predict(img)\n",
    "print(pred)\n",
    "\n",
    "src = cv2.imread(\"sedan.jpg\")\n",
    "img = prep_image(src)\n",
    "\n",
    "pred = model.predict(img)\n",
    "print(pred)\n"
   ]
  },
  {
   "cell_type": "code",
   "execution_count": 32,
   "metadata": {},
   "outputs": [
    {
     "name": "stdout",
     "output_type": "stream",
     "text": [
      "It stopped at frame  900\n",
      "Total time taken to run  on 900 images was 434.88 seconds\n",
      "With an average time per frame of  0.483\n",
      "Our overall F1 score for car detector  is  0.8857\n",
      "Our overall F1 score for suvs classified is  0.6029\n",
      "Our overall F1 score for sedans classified is  0.5815\n"
     ]
    }
   ],
   "source": [
    "#List for containg number of cars per frame\n",
    "car_count = []\n",
    "suv_count = []\n",
    "sedan_count = []\n",
    "#Storing times for analyis\n",
    "classify_times = []\n",
    "\n",
    "frameSize = (428, 576)\n",
    "\n",
    "#For out putting the video\n",
    "out = cv2.VideoWriter('output_video.mp4',cv2.VideoWriter_fourcc(*'mp4v'), 30, frameSize)\n",
    "\n",
    "\n",
    "#For Reading the video\n",
    "cap = cv2.VideoCapture(\"assignment-clip.mp4\")\n",
    "currentFrame = 0\n",
    "\n",
    "\n",
    "\n",
    "#Pick a random frame to show\n",
    "randFrame = random.randint(0,899)\n",
    "\n",
    "\n",
    "\n",
    "while(cap.isOpened()):\n",
    "    ret, frame = cap.read()\n",
    "    if ret == False:\n",
    "        print(\"It stopped at frame \", currentFrame)\n",
    "        break\n",
    "    image = frame\n",
    "    #Start the timer\n",
    "    start = time.time()\n",
    "    # Get the shape\n",
    "    h, w = image.shape[:2]\n",
    "    # Load it as a blob and feed it to the network\n",
    "    blob = cv2.dnn.blobFromImage(image, 1 / 255.0, (416, 416), swapRB=True)\n",
    "    net.setInput(blob)\n",
    "    # Get the output\n",
    "    layer_outputs = net.forward(ln)\n",
    "\n",
    "\n",
    "    # Initialize the lists we need to interpret the results\n",
    "    boxes = []\n",
    "    confidences = []\n",
    "    class_ids = []\n",
    "    \n",
    "    #The current amount of sedans/SUVs in the current frame\n",
    "    current_sedan = 0\n",
    "    current_suv = 0\n",
    "    \n",
    "\n",
    "    # Loop over the layers\n",
    "    for output in layer_outputs:\n",
    "        # For the layer loop over all detections\n",
    "        for detection in output:\n",
    "            # The detection first 4 entries contains the object position and size\n",
    "            scores = detection[5:]\n",
    "            # Then it has detection scores - it takes the one with maximal score\n",
    "            class_id = np.argmax(scores).item()\n",
    "            # The maximal score is the confidence\n",
    "            confidence = scores[class_id].item()\n",
    "\n",
    "            # Ensure we have some reasonable confidence in our prediction and only take class_id of 2 i.e. cars\n",
    "            if confidence > 0.3 and class_id == 2:\n",
    "                # The first four entries have the location and size (center, size)\n",
    "                # It needs to be scaled up as the result is given in relative size (0.0 to 1.0)\n",
    "                box = detection[0:4] * np.array([w, h, w, h])\n",
    "                center_x, center_y, width, height = box.astype(int).tolist()\n",
    "                \n",
    "                \n",
    "                #If my boudry box is too small I want to make it a bit bigger\n",
    "                if width*height < 4000:\n",
    "                    width = width+width\n",
    "                    height = height+height\n",
    "                elif width*height < 7000:\n",
    "                    width = width+width//2\n",
    "                    height = height+height//2\n",
    "                    \n",
    "                \n",
    "            \n",
    "                # Calculate the upper corner\n",
    "                x = center_x - width//2\n",
    "                y = center_y - height//2\n",
    "                \n",
    "                \n",
    "        \n",
    "                \n",
    "                # Add our findings to the lists\n",
    "                boxes.append([x, y, width, height])\n",
    "                confidences.append(confidence)\n",
    "                class_ids.append(class_id)\n",
    "\n",
    "    # Only keep the best boxes of the overlapping ones\n",
    "    idxs = cv2.dnn.NMSBoxes(boxes, confidences,0.3, 0.4)\n",
    "    \n",
    "    #Take out count here\n",
    "    car_count.append(len(idxs))\n",
    "    # Ensure at least one detection exists - needed otherwise flatten will fail\n",
    "    if len(idxs) > 0:\n",
    "        # Loop over the indexes we are keeping\n",
    "        for i in idxs.flatten():\n",
    "            # Get the box information\n",
    "            x, y, w, h = boxes[i]\n",
    "            #Classify each box here\n",
    "            \n",
    "            \n",
    "            cropped = image[x:x+w, y:y+h]\n",
    "            \n",
    "            #Just to avoid any mistakes in cropping,bad crop will cause an error\n",
    "            if cropped.size != 0:\n",
    "                \n",
    "            \n",
    "\n",
    "                pre = prep_image(cropped)\n",
    "\n",
    "                pred = model.predict(pre)\n",
    "\n",
    "                \n",
    "               \n",
    "                \n",
    "                \n",
    "                #Assign labels based on the prediction\n",
    "                #And update relevant count\n",
    "                if np.argmax(pred) == 0:\n",
    "                    current_sedan += 1\n",
    "                    pred_label = \"sedan\"\n",
    "                elif np.argmax(pred) == 1:\n",
    "                    current_suv += 1\n",
    "                    pred_label = \"suv\"\n",
    " \n",
    "\n",
    "\n",
    "                # Make a rectangle\n",
    "                cv2.rectangle(image, (x, y), (x + w, y + h), (255,0,255), 2)\n",
    "                # add text\n",
    "                cv2.putText(image, pred_label, (x, y - 5), cv2.FONT_HERSHEY_SIMPLEX,\n",
    "                        1.3, (255, 255, 0), 1)\n",
    "                \n",
    "    #Append the car count the their lists       \n",
    "    sedan_count.append(current_sedan)\n",
    "    suv_count.append(current_suv)\n",
    "    \n",
    "    #Preparing text  images\n",
    "    ResultText = \"Car Count: \"+str(car_count[currentFrame])\n",
    "    SedanText = \"Sedan Count: \"+str(sedan_count[currentFrame])\n",
    "    SUVText = \"SUV Count: \"+str(suv_count[currentFrame])\n",
    "                                   \n",
    "    cv2.putText(image,ResultText,(20,30),cv2.FONT_HERSHEY_SIMPLEX, 1.2, (0,0,0), 2)\n",
    "    cv2.putText(image,SedanText,(20,55),cv2.FONT_HERSHEY_SIMPLEX, 1.2, (0,0,0), 2) \n",
    "    cv2.putText(image,SUVText,(20,85),cv2.FONT_HERSHEY_SIMPLEX, 1.2, (0,0,0), 2)\n",
    "                                   \n",
    "    \n",
    "    #if currentFrame == randFrame:\n",
    "        print(\"Displaying frame \",randFrame+1)\n",
    "        cv2.imshow(\"Classifer Test Image\", image)\n",
    "        cv2.waitKey(0)\n",
    "        cv2.destroyAllWindows()\n",
    "\n",
    "    \n",
    "    #End the end timer and add the time to our list\n",
    "    end = time.time() \n",
    "    classify_times.append(end - start)\n",
    "    \n",
    "    currentFrame += 1\n",
    "    \n",
    "    #Save the altered frame \n",
    "    cv2.imwrite(\"processedFrames/img\"+str(currentFrame)+\".jpg\",image)\n",
    "    #Send the altered image to the videoWriter\n",
    "    out.write(image)\n",
    "\n",
    "    \n",
    "\n",
    "#release the video reader and the video writer\n",
    "cap.release()\n",
    "cv2.destroyAllWindows()\n",
    "out.release()\n",
    "\n",
    "\n",
    "\n",
    "print(\"Total time taken to run  on 900 images was\",round(sum(classify_times),3),\"seconds\")\n",
    "print(\"With an average time per frame of \",round(np.mean(classify_times),3))\n",
    "print(\"Our overall F1 score for car detector  is \",round(np.mean(F1ScoreCalc(car_count,TrueCarCount)),4))\n",
    "print(\"Our overall F1 score for suvs classified is \",round(np.mean(F1ScoreCalc(suv_count,TrueSUVCount)),4))\n",
    "print(\"Our overall F1 score for sedans classified is \",round(np.mean(F1ScoreCalc(sedan_count,TrueSedanCount)),4))"
   ]
  },
  {
   "cell_type": "code",
   "execution_count": 33,
   "metadata": {},
   "outputs": [
    {
     "data": {
      "image/png": "[encoded data removed]",
      "text/plain": [
       "<Figure size 432x288 with 1 Axes>"
      ]
     },
     "metadata": {
      "needs_background": "light"
     },
     "output_type": "display_data"
    }
   ],
   "source": [
    "plt.plot(classify_times)\n",
    "plt.title('Throughput Query 2')\n",
    "plt.ylabel('Time in Seconds')\n",
    "plt.xlabel('Frame Number')\n",
    "plt.show()\n",
    "\n"
   ]
  },
  {
   "cell_type": "code",
   "execution_count": 34,
   "metadata": {},
   "outputs": [
    {
     "data": {
      "image/png": "[encoded data removed]",
      "text/plain": [
       "<Figure size 432x288 with 1 Axes>"
      ]
     },
     "metadata": {
      "needs_background": "light"
     },
     "output_type": "display_data"
    }
   ],
   "source": [
    "plt.plot(car_count,classify_times,\"ro\")\n",
    "plt.title('Throughput Query 2')\n",
    "plt.ylabel('Time in Seconds')\n",
    "plt.xlabel('Car Count')\n",
    "plt.show()"
   ]
  },
  {
   "cell_type": "code",
   "execution_count": 35,
   "metadata": {},
   "outputs": [
    {
     "name": "stdout",
     "output_type": "stream",
     "text": [
      "INFO:tensorflow:Assets written to: myKerasModel\\assets\n"
     ]
    }
   ],
   "source": [
    "#Saving the model \n",
    "model.save('myKerasModel')"
   ]
  },
  {
   "cell_type": "code",
   "execution_count": 36,
   "metadata": {},
   "outputs": [],
   "source": [
    "#Writing my results to a dataframe then to a excel file\n",
    "\n",
    "frame_numbers = list(range(1,900))\n",
    "\n",
    "resultDF = pd.DataFrame([frame_numbers,suv_count,sedan_count,car_count])\n",
    "\n",
    "resultDF = resultDF.T\n",
    "\n",
    "resultDF.columns = [\"Frame Number\",\"SUV Count\", \"Sedan Count\", \"Car Count\"]\n",
    "\n",
    "resultDF.head()\n",
    "\n",
    "resultDF.to_excel(\"PipelineResults.xlsx\") "
   ]
  },
  {
   "cell_type": "code",
   "execution_count": null,
   "metadata": {},
   "outputs": [],
   "source": []
  }
 ],
 "metadata": {
  "kernelspec": {
   "display_name": "Python 3",
   "language": "python",
   "name": "python3"
  },
  "language_info": {
   "codemirror_mode": {
    "name": "ipython",
    "version": 3
   },
   "file_extension": ".py",
   "mimetype": "text/x-python",
   "name": "python",
   "nbconvert_exporter": "python",
   "pygments_lexer": "ipython3",
   "version": "3.8.8"
  }
 },
 "nbformat": 4,
 "nbformat_minor": 4
}
